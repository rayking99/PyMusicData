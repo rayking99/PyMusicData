{
  "cells": [
    {
      "cell_type": "markdown",
      "metadata": {
        "id": "view-in-github",
        "colab_type": "text"
      },
      "source": [
        "<a href=\"https://colab.research.google.com/github/rayking99/PyMusicData/blob/main/PyMusicData_Extended.ipynb\" target=\"_parent\"><img src=\"https://colab.research.google.com/assets/colab-badge.svg\" alt=\"Open In Colab\"/></a>"
      ]
    },
    {
      "cell_type": "markdown",
      "metadata": {
        "id": "KIe-dmxSDrFC"
      },
      "source": [
        "## **Python Audio Analysis (Extended) Colab**\n",
        "\n",
        "This is a quick and easy way to get essentia musicextractor data for your songs.\n",
        "\n",
        "Connect your drive, link the songs, analyse! (There is time to analyse, Thom!)\n",
        "\n",
        "Files are downloaded to json.\n",
        "\n",
        "This is easy and quick!\n",
        "\n",
        "Take the json and process in the comfort of your own code editor.\n"
      ]
    },
    {
      "cell_type": "code",
      "source": [
        "from google.colab import drive\n",
        "drive.mount('/content/drive')"
      ],
      "metadata": {
        "id": "SvTL0SB9Dxjj"
      },
      "execution_count": null,
      "outputs": []
    },
    {
      "cell_type": "markdown",
      "source": [
        "\n",
        "## **Instructions ---**\n",
        "\n",
        "Once your drive is connected (first step), right click on song folder and 'Copy Path'\n",
        "\n",
        "Paste in folder of songs:  \n",
        "\n",
        "      songs = glob.glob(\"PASTE YOUR LINK/**.wav\")\n",
        "\n",
        "- **.wav  tells program all wav files in folder. \n",
        "\n",
        "SUPPORTS \n",
        "\n",
        "-  **.flac\n",
        "-  **.mp3\n",
        "\n",
        "-  If you want to just do one song - go in square brackets:\n",
        "        songs = ['path/to/one_song.wav'] "
      ],
      "metadata": {
        "id": "wpCs_jaBUZsF"
      }
    },
    {
      "cell_type": "code",
      "source": [
        "!pip install essentia\n",
        "\n",
        "import essentia\n",
        "import essentia.standard as es\n",
        "from google.colab import files \n",
        "from pathlib import Path\n",
        "import time\n",
        "import glob\n",
        "\n",
        "songs = glob.glob('/content/drive/MyDrive/**.wav')\n",
        "\n",
        "for song in songs:\n",
        "  song_name = Path(song).stem\n",
        "  features, features_frames = es.MusicExtractor(lowlevelStats=['mean', 'stdev'],rhythmStats=['mean', 'stdev'],tonalStats=['mean', 'stdev'])(song)\n",
        "  results_file = \"/content/drive/MyDrive\" + '/%s_results.json' % song_name\n",
        "  es.YamlOutput(filename=results_file, format=\"json\")(features)\n",
        "  files.download(results_file)"
      ],
      "metadata": {
        "id": "W_yGPpjoHG8I"
      },
      "execution_count": null,
      "outputs": []
    },
    {
      "cell_type": "markdown",
      "source": [
        "# **A slightly advanced version -**\n",
        "\n",
        "This will create a table with the data relating to the songs: \n",
        "  - artist\n",
        "  - title\n",
        "  - loudness\n",
        "  - danceability\n",
        "  - beats_loudness\n",
        "  - dynamic_complexity\n",
        "  - spectral_energy\n",
        "  - spectral_entropy\n",
        "  - spectral_spread\n",
        "  - bpm\n",
        "  - chords_key\n",
        "  - chords_scale\n",
        "\n",
        "\n",
        "You'll need to input the file inputs and outputs.\n"
      ],
      "metadata": {
        "id": "a8MMaZC1rh_7"
      }
    },
    {
      "cell_type": "code",
      "source": [
        "!pip install natsort\n",
        "\n",
        "import pandas as pd \n",
        "import json\n",
        "import glob\n",
        "from natsort import natsorted,index_natsorted,order_by_index"
      ],
      "metadata": {
        "id": "sURIj35HhneX"
      },
      "execution_count": null,
      "outputs": []
    },
    {
      "cell_type": "code",
      "source": [
        "json_files = glob.glob('path/to/jsonfiles/**.json')\n",
        "\n",
        "\n",
        "all_dynamic_complexity = []\n",
        "all_integrated = []\n",
        "all_spectral_energy = []\n",
        "all_spectral_entropy = []\n",
        "all_spectral_spread = []\n",
        "all_danceability = []\n",
        "all_mean = []\n",
        "all_bpm = []\n",
        "all_chords_key = []\n",
        "all_chords_scale = []\n",
        "all_title = []\n",
        "all_artist = []\n",
        "\n",
        "for file in json_files:\n",
        "    file = open(file).read()\n",
        "    data = json.loads(file)\n",
        "    dynamic_complexity = data['lowlevel']['dynamic_complexity']\n",
        "    all_dynamic_complexity.append(dynamic_complexity)\n",
        "    integrated = data['lowlevel']['loudness_ebu128']['integrated']\n",
        "    all_integrated.append(integrated)\n",
        "    spectral_energy = data['lowlevel']['spectral_energy']['mean']\n",
        "    all_spectral_energy.append(spectral_energy)\n",
        "    spectral_entropy = data['lowlevel']['spectral_entropy']['mean']\n",
        "    all_spectral_entropy.append(spectral_entropy)\n",
        "    spectral_spread = data['lowlevel']['spectral_spread']['mean']\n",
        "    all_spectral_spread.append(spectral_spread)\n",
        "    danceability = data['rhythm']['danceability']\n",
        "    all_danceability.append(danceability)\n",
        "    mean = data['rhythm']['beats_loudness']['mean']\n",
        "    all_mean.append(mean)\n",
        "    bpm = data['rhythm']['bpm']\n",
        "    all_bpm.append(bpm)\n",
        "    chords_key = data['tonal']['chords_key']\n",
        "    all_chords_key.append(chords_key)\n",
        "    chords_scale = data['tonal']['chords_scale']\n",
        "    all_chords_scale.append(chords_scale)\n",
        "    title = data['metadata']['tags']['title'][0]\n",
        "    all_title.append(title)\n",
        "    artist = data['metadata']['tags']['artist'][0]\n",
        "    all_artist.append(artist)\n",
        "\n",
        "df = pd.DataFrame()\n",
        "\n",
        "df['artist'] = all_artist\n",
        "df['title'] = all_title\n",
        "df['loudness'] = all_integrated\n",
        "df['danceability'] = all_danceability\n",
        "df['beats_loudness'] = all_mean\n",
        "df['dynamic_complexity'] = all_dynamic_complexity\n",
        "df['spectral_energy'] = all_spectral_energy\n",
        "df['spectral_entropy'] = all_spectral_entropy\n",
        "df['spectral_spread'] = all_spectral_spread\n",
        "df['bpm'] = all_bpm\n",
        "df['chords_key'] = all_chords_key\n",
        "df['chords_scale'] = all_chords_scale\n",
        "\n",
        "\n",
        "df = df.reindex(index=order_by_index(df.index,index_natsorted(df['title'])))\n",
        "df = df.reset_index().drop(columns=['index'])\n",
        "df.to_csv('path/to/output.csv')"
      ],
      "metadata": {
        "id": "dKG4ue30rGBk"
      },
      "execution_count": null,
      "outputs": []
    }
  ],
  "metadata": {
    "kernelspec": {
      "display_name": "Python 3",
      "language": "python",
      "name": "python3"
    },
    "language_info": {
      "codemirror_mode": {
        "name": "ipython",
        "version": 3
      },
      "file_extension": ".py",
      "mimetype": "text/x-python",
      "name": "python",
      "nbconvert_exporter": "python",
      "pygments_lexer": "ipython3",
      "version": "3.8.6"
    },
    "colab": {
      "provenance": [],
      "include_colab_link": true
    }
  },
  "nbformat": 4,
  "nbformat_minor": 0
}