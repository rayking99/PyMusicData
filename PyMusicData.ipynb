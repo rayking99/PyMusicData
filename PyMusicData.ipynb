{
  "cells": [
    {
      "cell_type": "markdown",
      "metadata": {
        "id": "view-in-github",
        "colab_type": "text"
      },
      "source": [
        "<a href=\"https://colab.research.google.com/github/rayking99/PyMusicData/blob/main/PyMusicData.ipynb\" target=\"_parent\"><img src=\"https://colab.research.google.com/assets/colab-badge.svg\" alt=\"Open In Colab\"/></a>"
      ]
    },
    {
      "cell_type": "markdown",
      "metadata": {
        "id": "KIe-dmxSDrFC"
      },
      "source": [
        "## **Python Audio Analysis Colab**\n",
        "\n",
        "This is a quick and easy way to get essentia musicextractor data for your songs.\n",
        "\n",
        "Connect your drive, link the songs, analyse! (There is time to analyse, Thom!)\n",
        "\n",
        "Files are downloaded to json.\n",
        "\n",
        "This is easy and quick!\n",
        "\n",
        "Take the json and process in the comfort of your own code editor.\n"
      ]
    },
    {
      "cell_type": "code",
      "source": [
        "from google.colab import drive\n",
        "drive.mount('/content/drive')"
      ],
      "metadata": {
        "id": "SvTL0SB9Dxjj"
      },
      "execution_count": null,
      "outputs": []
    },
    {
      "cell_type": "markdown",
      "source": [
        "\n",
        "## **Instructions ---**\n",
        "\n",
        "Once your drive is connected (first step), right click on song folder and 'Copy Path'\n",
        "\n",
        "Paste in folder of songs:  \n",
        "\n",
        "      songs = glob.glob(\"PASTE YOUR LINK/**.wav\")\n",
        "\n",
        "- **.wav  tells program all wav files in folder. \n",
        "\n",
        "SUPPORTS \n",
        "\n",
        "-  **.flac\n",
        "-  **.mp3\n",
        "\n",
        "-  If you want to just do one song - go in square brackets:\n",
        "        songs = ['path/to/one_song.wav'] "
      ],
      "metadata": {
        "id": "wpCs_jaBUZsF"
      }
    },
    {
      "cell_type": "code",
      "source": [
        "!pip install essentia\n",
        "\n",
        "import essentia\n",
        "import essentia.standard as es\n",
        "from google.colab import files \n",
        "from pathlib import Path\n",
        "import time\n",
        "import glob\n",
        "\n",
        "songs = glob.glob('/content/drive/MyDrive/**.wav')\n",
        "\n",
        "for song in songs:\n",
        "  song_name = Path(song).stem\n",
        "  features, features_frames = es.MusicExtractor(lowlevelStats=['mean', 'stdev'],rhythmStats=['mean', 'stdev'],tonalStats=['mean', 'stdev'])(song)\n",
        "  results_file = \"/content/drive/MyDrive\" + '/%s_results.json' % song_name\n",
        "  es.YamlOutput(filename=results_file, format=\"json\")(features)\n",
        "  files.download(results_file)"
      ],
      "metadata": {
        "id": "W_yGPpjoHG8I"
      },
      "execution_count": null,
      "outputs": []
    }
  ],
  "metadata": {
    "kernelspec": {
      "display_name": "Python 3",
      "language": "python",
      "name": "python3"
    },
    "language_info": {
      "codemirror_mode": {
        "name": "ipython",
        "version": 3
      },
      "file_extension": ".py",
      "mimetype": "text/x-python",
      "name": "python",
      "nbconvert_exporter": "python",
      "pygments_lexer": "ipython3",
      "version": "3.8.6"
    },
    "colab": {
      "provenance": [],
      "include_colab_link": true
    }
  },
  "nbformat": 4,
  "nbformat_minor": 0
}